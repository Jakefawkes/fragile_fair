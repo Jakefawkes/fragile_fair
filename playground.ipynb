{
 "cells": [
  {
   "cell_type": "code",
   "execution_count": 1,
   "metadata": {},
   "outputs": [],
   "source": [
    "from src.analyze_metric_sensitivity import analyze_metric_sensitivity, analyze_metric_bias_sensitivity\n",
    "import pandas as pd"
   ]
  },
  {
   "cell_type": "code",
   "execution_count": 2,
   "metadata": {},
   "outputs": [],
   "source": [
    "probability_df = pd.read_csv(\"data/trained_models/example_model.csv\")"
   ]
  },
  {
   "cell_type": "code",
   "execution_count": 5,
   "metadata": {},
   "outputs": [
    {
     "name": "stdout",
     "output_type": "stream",
     "text": [
      "Lower bound: -0.07485293842016806, Upper bound: 0.170319564058878, Lower bound converged: True, Upper bound converged: True\n"
     ]
    }
   ],
   "source": [
    "lb, ub, lb_converged, ub_converged = analyze_metric_bias_sensitivity(probability_df, metric='FPR', bias='selection', sensitivity_parameter_values=0.05)\n",
    "print(f\"Lower bound: {lb}, Upper bound: {ub}, Lower bound converged: {lb_converged}, Upper bound converged: {ub_converged}\")"
   ]
  },
  {
   "cell_type": "code",
   "execution_count": 6,
   "metadata": {},
   "outputs": [
    {
     "name": "stdout",
     "output_type": "stream",
     "text": [
      "Lower bound: -0.07485293842016806, Upper bound: 0.170319564058878, Lower bound converged: True, Upper bound converged: True\n"
     ]
    }
   ],
   "source": [
    "import json\n",
    "\n",
    "with open(\"src/bias_configs/selection.json\") as f:\n",
    "    selection_config = json.load(f)\n",
    "\n",
    "lb, ub, lb_converged, ub_converged = analyze_metric_sensitivity(\n",
    "    probability_df, metric='FPR', sensitivity_parameter_values=0.05,\n",
    "    **selection_config\n",
    ")\n",
    "print(f\"Lower bound: {lb}, Upper bound: {ub}, Lower bound converged: {lb_converged}, Upper bound converged: {ub_converged}\")"
   ]
  },
  {
   "cell_type": "code",
   "execution_count": null,
   "metadata": {},
   "outputs": [],
   "source": []
  }
 ],
 "metadata": {
  "kernelspec": {
   "display_name": "test_fair",
   "language": "python",
   "name": "python3"
  },
  "language_info": {
   "codemirror_mode": {
    "name": "ipython",
    "version": 3
   },
   "file_extension": ".py",
   "mimetype": "text/x-python",
   "name": "python",
   "nbconvert_exporter": "python",
   "pygments_lexer": "ipython3",
   "version": "3.12.5"
  }
 },
 "nbformat": 4,
 "nbformat_minor": 2
}
