{
 "cells": [
  {
   "cell_type": "code",
   "execution_count": 7,
   "metadata": {},
   "outputs": [],
   "source": [
    "from src.autobounds_tools import run_autobounds,run_standard_fair_bounding,DAG_string_dict,Standard_constraint_list\n",
    "import pandas as pd"
   ]
  },
  {
   "cell_type": "code",
   "execution_count": 8,
   "metadata": {},
   "outputs": [],
   "source": [
    "probability_df = pd.read_csv(\"data/trained_models/example_model.csv\")\n",
    "metric = \"FPR\"\n",
    "bias = \"Proxy_Y\"\n",
    "DAG_dict = DAG_string_dict[bias]\n",
    "sensitivity_parameter_value=0.05\n",
    "constraints = Standard_constraint_list[bias]"
   ]
  },
  {
   "cell_type": "code",
   "execution_count": 10,
   "metadata": {},
   "outputs": [],
   "source": [
    "probability_df[\"Z\"] = probability_df[\"Y\"]\n",
    "probability_df = probability_df.drop(\"Y\",axis=1)"
   ]
  },
  {
   "cell_type": "code",
   "execution_count": 13,
   "metadata": {},
   "outputs": [
    {
     "name": "stdout",
     "output_type": "stream",
     "text": [
      "Loading_data\n",
      "Collecting term\n",
      "Setting Estimand\n",
      "lhs_tokens ['P(Z=0&Y=0)', 'P(Z=1&Y=1)']\n",
      "lhs_operators ['+']\n",
      "rhs_tokens ['1', 'D']\n",
      "rhs_operators ['-']\n",
      "D 0.05\n",
      "Running Autobounds\n"
     ]
    },
    {
     "data": {
      "text/plain": [
       "(-0.14215475811897588, 0.20136990978589922, True, True)"
      ]
     },
     "execution_count": 13,
     "metadata": {},
     "output_type": "execute_result"
    }
   ],
   "source": [
    "run_autobounds(\n",
    "        probability_df, metric, DAG_dict[\"DAG\"], DAG_dict[\"Unobserved\"], constraints, \n",
    "        sensitivity_parameter_value=sensitivity_parameter_value, verbose=1\n",
    ")"
   ]
  },
  {
   "cell_type": "code",
   "execution_count": 12,
   "metadata": {},
   "outputs": [
    {
     "name": "stdout",
     "output_type": "stream",
     "text": [
      "Loading_data\n",
      "Collecting term\n",
      "Setting Estimand\n",
      "lhs_tokens ['P(Z=0&Y=0)', 'P(Z=1&Y=1)']\n",
      "lhs_operators ['+']\n",
      "rhs_tokens ['1', 'D']\n",
      "rhs_operators ['-']\n",
      "D 0.05\n",
      "Running Autobounds\n"
     ]
    },
    {
     "data": {
      "text/plain": [
       "(-0.14215475811897588, 0.20136990978589922, True, True)"
      ]
     },
     "execution_count": 12,
     "metadata": {},
     "output_type": "execute_result"
    }
   ],
   "source": [
    "run_standard_fair_bounding(\n",
    "        probability_df, metric, bias,  \n",
    "        sensitivity_parameter_value=0.05, verbose=1\n",
    ")"
   ]
  }
 ],
 "metadata": {
  "kernelspec": {
   "display_name": "test_fair",
   "language": "python",
   "name": "python3"
  },
  "language_info": {
   "codemirror_mode": {
    "name": "ipython",
    "version": 3
   },
   "file_extension": ".py",
   "mimetype": "text/x-python",
   "name": "python",
   "nbconvert_exporter": "python",
   "pygments_lexer": "ipython3",
   "version": "3.10.13"
  }
 },
 "nbformat": 4,
 "nbformat_minor": 2
}
