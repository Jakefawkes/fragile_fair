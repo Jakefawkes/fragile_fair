{
 "cells": [
  {
   "cell_type": "code",
   "execution_count": 6,
   "metadata": {},
   "outputs": [],
   "source": [
    "from src.autobounds_tools import run_autobounds,run_standard_fair_bounding,DAG_string_dict,Standard_constraint_list\n",
    "import pandas as pd"
   ]
  },
  {
   "cell_type": "code",
   "execution_count": 7,
   "metadata": {},
   "outputs": [],
   "source": [
    "probability_df = pd.read_csv(\"data/trained_models/example_model.csv\")\n",
    "metric = \"FPR\"\n",
    "bias = \"Selection\"\n",
    "DAG_dict = DAG_string_dict[bias]\n",
    "sensitivity_parameter_value=0.05\n",
    "constraints = Standard_constraint_list[bias]"
   ]
  },
  {
   "cell_type": "code",
   "execution_count": 8,
   "metadata": {},
   "outputs": [],
   "source": [
    "# probability_df[\"Z\"] = probability_df[\"Y\"]\n",
    "# probability_df = probability_df.drop(\"Y\",axis=1)\n",
    "probability_df[\"S\"] = 1"
   ]
  },
  {
   "cell_type": "code",
   "execution_count": 9,
   "metadata": {},
   "outputs": [
    {
     "name": "stdout",
     "output_type": "stream",
     "text": [
      "Loading_data\n",
      "Collecting term\n",
      "Setting Estimand\n",
      "lhs_tokens ['P(S=1)']\n",
      "lhs_operators []\n",
      "rhs_tokens ['1', 'D']\n",
      "rhs_operators ['-']\n",
      "D 0.05\n",
      "Running Autobounds\n"
     ]
    },
    {
     "data": {
      "text/plain": [
       "(0.042553679523940964, 0.0425599486511984, True, True)"
      ]
     },
     "execution_count": 9,
     "metadata": {},
     "output_type": "execute_result"
    }
   ],
   "source": [
    "run_autobounds(\n",
    "        probability_df, metric, DAG_dict[\"DAG\"], DAG_dict[\"Unobserved\"], constraints, \n",
    "        sensitivity_parameter_value=sensitivity_parameter_value, verbose=1\n",
    ")"
   ]
  },
  {
   "cell_type": "code",
   "execution_count": 10,
   "metadata": {},
   "outputs": [
    {
     "name": "stdout",
     "output_type": "stream",
     "text": [
      "Loading_data\n",
      "Collecting term\n"
     ]
    },
    {
     "name": "stderr",
     "output_type": "stream",
     "text": [
      "/Users/jake/miniconda3/envs/test_fair/lib/python3.10/site-packages/autobound/causalProblem.py:149: FutureWarning: Series.__getitem__ treating keys as positions is deprecated. In a future version, integer keys will always be treated as labels (consistent with DataFrame behavior). To access a value by position, use `ser.iloc[pos]`\n",
      "  query_cond = [ f'{row_cond.index[j]}={int(row_cond[j])}'\n",
      "/Users/jake/miniconda3/envs/test_fair/lib/python3.10/site-packages/autobound/causalProblem.py:149: FutureWarning: Series.__getitem__ treating keys as positions is deprecated. In a future version, integer keys will always be treated as labels (consistent with DataFrame behavior). To access a value by position, use `ser.iloc[pos]`\n",
      "  query_cond = [ f'{row_cond.index[j]}={int(row_cond[j])}'\n",
      "/Users/jake/miniconda3/envs/test_fair/lib/python3.10/site-packages/autobound/causalProblem.py:149: FutureWarning: Series.__getitem__ treating keys as positions is deprecated. In a future version, integer keys will always be treated as labels (consistent with DataFrame behavior). To access a value by position, use `ser.iloc[pos]`\n",
      "  query_cond = [ f'{row_cond.index[j]}={int(row_cond[j])}'\n",
      "/Users/jake/miniconda3/envs/test_fair/lib/python3.10/site-packages/autobound/causalProblem.py:149: FutureWarning: Series.__getitem__ treating keys as positions is deprecated. In a future version, integer keys will always be treated as labels (consistent with DataFrame behavior). To access a value by position, use `ser.iloc[pos]`\n",
      "  query_cond = [ f'{row_cond.index[j]}={int(row_cond[j])}'\n",
      "/Users/jake/miniconda3/envs/test_fair/lib/python3.10/site-packages/autobound/causalProblem.py:149: FutureWarning: Series.__getitem__ treating keys as positions is deprecated. In a future version, integer keys will always be treated as labels (consistent with DataFrame behavior). To access a value by position, use `ser.iloc[pos]`\n",
      "  query_cond = [ f'{row_cond.index[j]}={int(row_cond[j])}'\n",
      "/Users/jake/miniconda3/envs/test_fair/lib/python3.10/site-packages/autobound/causalProblem.py:149: FutureWarning: Series.__getitem__ treating keys as positions is deprecated. In a future version, integer keys will always be treated as labels (consistent with DataFrame behavior). To access a value by position, use `ser.iloc[pos]`\n",
      "  query_cond = [ f'{row_cond.index[j]}={int(row_cond[j])}'\n",
      "/Users/jake/miniconda3/envs/test_fair/lib/python3.10/site-packages/autobound/causalProblem.py:149: FutureWarning: Series.__getitem__ treating keys as positions is deprecated. In a future version, integer keys will always be treated as labels (consistent with DataFrame behavior). To access a value by position, use `ser.iloc[pos]`\n",
      "  query_cond = [ f'{row_cond.index[j]}={int(row_cond[j])}'\n",
      "/Users/jake/miniconda3/envs/test_fair/lib/python3.10/site-packages/autobound/causalProblem.py:149: FutureWarning: Series.__getitem__ treating keys as positions is deprecated. In a future version, integer keys will always be treated as labels (consistent with DataFrame behavior). To access a value by position, use `ser.iloc[pos]`\n",
      "  query_cond = [ f'{row_cond.index[j]}={int(row_cond[j])}'\n"
     ]
    },
    {
     "name": "stdout",
     "output_type": "stream",
     "text": [
      "Setting Estimand\n",
      "lhs_tokens ['P(S=1)']\n",
      "lhs_operators []\n",
      "rhs_tokens ['1', 'D']\n",
      "rhs_operators ['-']\n",
      "D 0.05\n",
      "Running Autobounds\n"
     ]
    },
    {
     "data": {
      "text/plain": [
       "(-0.0748529384203308, 0.17031956405887294, True, True)"
      ]
     },
     "execution_count": 10,
     "metadata": {},
     "output_type": "execute_result"
    }
   ],
   "source": [
    "run_standard_fair_bounding(\n",
    "        probability_df, metric, bias,  \n",
    "        sensitivity_parameter_value=0.05, verbose=1\n",
    ")"
   ]
  }
 ],
 "metadata": {
  "kernelspec": {
   "display_name": "test_fair",
   "language": "python",
   "name": "python3"
  },
  "language_info": {
   "codemirror_mode": {
    "name": "ipython",
    "version": 3
   },
   "file_extension": ".py",
   "mimetype": "text/x-python",
   "name": "python",
   "nbconvert_exporter": "python",
   "pygments_lexer": "ipython3",
   "version": "3.10.13"
  }
 },
 "nbformat": 4,
 "nbformat_minor": 2
}
