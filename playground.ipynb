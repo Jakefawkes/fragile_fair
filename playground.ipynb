{
 "cells": [
  {
   "cell_type": "code",
   "execution_count": 1,
   "metadata": {},
   "outputs": [
    {
     "name": "stderr",
     "output_type": "stream",
     "text": [
      "/Users/jake/miniconda3/envs/test_fair/lib/python3.10/site-packages/scipy/__init__.py:155: UserWarning: A NumPy version >=1.18.5 and <1.25.0 is required for this version of SciPy (detected version 1.26.3\n",
      "  warnings.warn(f\"A NumPy version >={np_minversion} and <{np_maxversion}\"\n"
     ]
    }
   ],
   "source": [
    "from src.autobounds_tools import run_fair_bounding,DAG_string_dict\n",
    "import pandas as pd"
   ]
  },
  {
   "cell_type": "code",
   "execution_count": 2,
   "metadata": {},
   "outputs": [],
   "source": [
    "probability_df = pd.read_csv(\"data/trained_models/example_model.csv\")"
   ]
  },
  {
   "cell_type": "code",
   "execution_count": 3,
   "metadata": {},
   "outputs": [
    {
     "name": "stderr",
     "output_type": "stream",
     "text": [
      "/Users/jake/miniconda3/envs/test_fair/lib/python3.10/site-packages/autobound/causalProblem.py:146: FutureWarning: Series.__getitem__ treating keys as positions is deprecated. In a future version, integer keys will always be treated as labels (consistent with DataFrame behavior). To access a value by position, use `ser.iloc[pos]`\n",
      "  query = [ f'{row_data.index[j]}={int(row_data[j])}'\n",
      "/Users/jake/miniconda3/envs/test_fair/lib/python3.10/site-packages/autobound/causalProblem.py:149: FutureWarning: Series.__getitem__ treating keys as positions is deprecated. In a future version, integer keys will always be treated as labels (consistent with DataFrame behavior). To access a value by position, use `ser.iloc[pos]`\n",
      "  query_cond = [ f'{row_cond.index[j]}={int(row_cond[j])}'\n"
     ]
    },
    {
     "name": "stdout",
     "output_type": "stream",
     "text": [
      "Loading_data\n",
      "Collecting term\n",
      "Setting Estimand\n"
     ]
    },
    {
     "name": "stderr",
     "output_type": "stream",
     "text": [
      "/Users/jake/miniconda3/envs/test_fair/lib/python3.10/site-packages/autobound/causalProblem.py:146: FutureWarning: Series.__getitem__ treating keys as positions is deprecated. In a future version, integer keys will always be treated as labels (consistent with DataFrame behavior). To access a value by position, use `ser.iloc[pos]`\n",
      "  query = [ f'{row_data.index[j]}={int(row_data[j])}'\n",
      "/Users/jake/miniconda3/envs/test_fair/lib/python3.10/site-packages/autobound/causalProblem.py:149: FutureWarning: Series.__getitem__ treating keys as positions is deprecated. In a future version, integer keys will always be treated as labels (consistent with DataFrame behavior). To access a value by position, use `ser.iloc[pos]`\n",
      "  query_cond = [ f'{row_cond.index[j]}={int(row_cond[j])}'\n",
      "/Users/jake/miniconda3/envs/test_fair/lib/python3.10/site-packages/autobound/causalProblem.py:146: FutureWarning: Series.__getitem__ treating keys as positions is deprecated. In a future version, integer keys will always be treated as labels (consistent with DataFrame behavior). To access a value by position, use `ser.iloc[pos]`\n",
      "  query = [ f'{row_data.index[j]}={int(row_data[j])}'\n",
      "/Users/jake/miniconda3/envs/test_fair/lib/python3.10/site-packages/autobound/causalProblem.py:149: FutureWarning: Series.__getitem__ treating keys as positions is deprecated. In a future version, integer keys will always be treated as labels (consistent with DataFrame behavior). To access a value by position, use `ser.iloc[pos]`\n",
      "  query_cond = [ f'{row_cond.index[j]}={int(row_cond[j])}'\n",
      "/Users/jake/miniconda3/envs/test_fair/lib/python3.10/site-packages/autobound/causalProblem.py:146: FutureWarning: Series.__getitem__ treating keys as positions is deprecated. In a future version, integer keys will always be treated as labels (consistent with DataFrame behavior). To access a value by position, use `ser.iloc[pos]`\n",
      "  query = [ f'{row_data.index[j]}={int(row_data[j])}'\n",
      "/Users/jake/miniconda3/envs/test_fair/lib/python3.10/site-packages/autobound/causalProblem.py:149: FutureWarning: Series.__getitem__ treating keys as positions is deprecated. In a future version, integer keys will always be treated as labels (consistent with DataFrame behavior). To access a value by position, use `ser.iloc[pos]`\n",
      "  query_cond = [ f'{row_cond.index[j]}={int(row_cond[j])}'\n",
      "/Users/jake/miniconda3/envs/test_fair/lib/python3.10/site-packages/autobound/causalProblem.py:146: FutureWarning: Series.__getitem__ treating keys as positions is deprecated. In a future version, integer keys will always be treated as labels (consistent with DataFrame behavior). To access a value by position, use `ser.iloc[pos]`\n",
      "  query = [ f'{row_data.index[j]}={int(row_data[j])}'\n",
      "/Users/jake/miniconda3/envs/test_fair/lib/python3.10/site-packages/autobound/causalProblem.py:149: FutureWarning: Series.__getitem__ treating keys as positions is deprecated. In a future version, integer keys will always be treated as labels (consistent with DataFrame behavior). To access a value by position, use `ser.iloc[pos]`\n",
      "  query_cond = [ f'{row_cond.index[j]}={int(row_cond[j])}'\n",
      "/Users/jake/miniconda3/envs/test_fair/lib/python3.10/site-packages/autobound/causalProblem.py:146: FutureWarning: Series.__getitem__ treating keys as positions is deprecated. In a future version, integer keys will always be treated as labels (consistent with DataFrame behavior). To access a value by position, use `ser.iloc[pos]`\n",
      "  query = [ f'{row_data.index[j]}={int(row_data[j])}'\n",
      "/Users/jake/miniconda3/envs/test_fair/lib/python3.10/site-packages/autobound/causalProblem.py:149: FutureWarning: Series.__getitem__ treating keys as positions is deprecated. In a future version, integer keys will always be treated as labels (consistent with DataFrame behavior). To access a value by position, use `ser.iloc[pos]`\n",
      "  query_cond = [ f'{row_cond.index[j]}={int(row_cond[j])}'\n",
      "/Users/jake/miniconda3/envs/test_fair/lib/python3.10/site-packages/autobound/causalProblem.py:146: FutureWarning: Series.__getitem__ treating keys as positions is deprecated. In a future version, integer keys will always be treated as labels (consistent with DataFrame behavior). To access a value by position, use `ser.iloc[pos]`\n",
      "  query = [ f'{row_data.index[j]}={int(row_data[j])}'\n",
      "/Users/jake/miniconda3/envs/test_fair/lib/python3.10/site-packages/autobound/causalProblem.py:149: FutureWarning: Series.__getitem__ treating keys as positions is deprecated. In a future version, integer keys will always be treated as labels (consistent with DataFrame behavior). To access a value by position, use `ser.iloc[pos]`\n",
      "  query_cond = [ f'{row_cond.index[j]}={int(row_cond[j])}'\n",
      "/Users/jake/miniconda3/envs/test_fair/lib/python3.10/site-packages/autobound/causalProblem.py:146: FutureWarning: Series.__getitem__ treating keys as positions is deprecated. In a future version, integer keys will always be treated as labels (consistent with DataFrame behavior). To access a value by position, use `ser.iloc[pos]`\n",
      "  query = [ f'{row_data.index[j]}={int(row_data[j])}'\n",
      "/Users/jake/miniconda3/envs/test_fair/lib/python3.10/site-packages/autobound/causalProblem.py:149: FutureWarning: Series.__getitem__ treating keys as positions is deprecated. In a future version, integer keys will always be treated as labels (consistent with DataFrame behavior). To access a value by position, use `ser.iloc[pos]`\n",
      "  query_cond = [ f'{row_cond.index[j]}={int(row_cond[j])}'\n"
     ]
    },
    {
     "name": "stdout",
     "output_type": "stream",
     "text": [
      "Running Autobounds\n"
     ]
    },
    {
     "data": {
      "text/plain": [
       "(-0.07485293842029554, 0.1703195640578378, True, True)"
      ]
     },
     "execution_count": 3,
     "metadata": {},
     "output_type": "execute_result"
    }
   ],
   "source": [
    "run_fair_bounding(probability_df,\"FPR\",\"Selection\",DAG_string_dict[\"Selection\"],sensitivity_parameter_value=0.05)"
   ]
  }
 ],
 "metadata": {
  "kernelspec": {
   "display_name": "test_fair",
   "language": "python",
   "name": "python3"
  },
  "language_info": {
   "codemirror_mode": {
    "name": "ipython",
    "version": 3
   },
   "file_extension": ".py",
   "mimetype": "text/x-python",
   "name": "python",
   "nbconvert_exporter": "python",
   "pygments_lexer": "ipython3",
   "version": "3.10.13"
  }
 },
 "nbformat": 4,
 "nbformat_minor": 2
}
